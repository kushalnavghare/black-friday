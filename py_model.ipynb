{
 "cells": [
  {
   "cell_type": "code",
   "execution_count": 1,
   "metadata": {
    "collapsed": true
   },
   "outputs": [],
   "source": [
    "import pandas as pd\n",
    "from sklearn.ensemble import RandomForestRegressor, GradientBoostingRegressor\n",
    "from sklearn.model_selection import train_test_split"
   ]
  },
  {
   "cell_type": "code",
   "execution_count": 2,
   "metadata": {
    "collapsed": true
   },
   "outputs": [],
   "source": [
    "train = pd.read_csv(\"files/train_for_model.csv\")\n",
    "test = pd.read_csv(\"files/test_for_model.csv\")"
   ]
  },
  {
   "cell_type": "code",
   "execution_count": 3,
   "metadata": {},
   "outputs": [
    {
     "name": "stdout",
     "output_type": "stream",
     "text": [
      "(550068, 13)\n",
      "(233599, 12)\n"
     ]
    }
   ],
   "source": [
    "print(train.shape)\n",
    "print(test.shape)"
   ]
  },
  {
   "cell_type": "code",
   "execution_count": 4,
   "metadata": {},
   "outputs": [
    {
     "name": "stdout",
     "output_type": "stream",
     "text": [
      "Train\n",
      " Unnamed: 0                    int64\n",
      "User_ID                       int64\n",
      "Product_ID                    int64\n",
      "Gender                        int64\n",
      "Age                           int64\n",
      "Occupation                    int64\n",
      "City_Category                 int64\n",
      "Stay_In_Current_City_Years    int64\n",
      "Marital_Status                int64\n",
      "Product_Category_1            int64\n",
      "Product_Category_2            int64\n",
      "Product_Category_3            int64\n",
      "Purchase                      int64\n",
      "dtype: object \n",
      "\n",
      "Test\n",
      " Unnamed: 0                    int64\n",
      "User_ID                       int64\n",
      "Product_ID                    int64\n",
      "Gender                        int64\n",
      "Age                           int64\n",
      "Occupation                    int64\n",
      "City_Category                 int64\n",
      "Stay_In_Current_City_Years    int64\n",
      "Marital_Status                int64\n",
      "Product_Category_1            int64\n",
      "Product_Category_2            int64\n",
      "Product_Category_3            int64\n",
      "dtype: object\n"
     ]
    }
   ],
   "source": [
    "print(\"Train\\n\", train.dtypes,\"\\n\")\n",
    "print(\"Test\\n\", test.dtypes)"
   ]
  },
  {
   "cell_type": "code",
   "execution_count": 5,
   "metadata": {
    "collapsed": true
   },
   "outputs": [],
   "source": [
    "y = train.Purchase\n",
    "X = train.drop('Purchase', axis=1)\n",
    "# X = \n",
    "# y = pd."
   ]
  },
  {
   "cell_type": "code",
   "execution_count": 6,
   "metadata": {
    "collapsed": true
   },
   "outputs": [],
   "source": [
    "X_train, X_test, y_train, y_test = train_test_split(X, y, random_state=42, test_size = 0.2)"
   ]
  },
  {
   "cell_type": "code",
   "execution_count": 7,
   "metadata": {
    "scrolled": true
   },
   "outputs": [
    {
     "name": "stdout",
     "output_type": "stream",
     "text": [
      "Unnamed: 0                    int64\n",
      "User_ID                       int64\n",
      "Product_ID                    int64\n",
      "Gender                        int64\n",
      "Age                           int64\n",
      "Occupation                    int64\n",
      "City_Category                 int64\n",
      "Stay_In_Current_City_Years    int64\n",
      "Marital_Status                int64\n",
      "Product_Category_1            int64\n",
      "Product_Category_2            int64\n",
      "Product_Category_3            int64\n",
      "dtype: object\n"
     ]
    }
   ],
   "source": [
    "#X_train.describe()\n",
    "X_train.head()\n",
    "print(X_test.dtypes)"
   ]
  },
  {
   "cell_type": "code",
   "execution_count": 8,
   "metadata": {
    "collapsed": true
   },
   "outputs": [],
   "source": [
    "model = RandomForestRegressor(n_estimators=25)"
   ]
  },
  {
   "cell_type": "code",
   "execution_count": 9,
   "metadata": {},
   "outputs": [
    {
     "data": {
      "text/plain": [
       "RandomForestRegressor(bootstrap=True, criterion='mse', max_depth=None,\n",
       "           max_features='auto', max_leaf_nodes=None,\n",
       "           min_impurity_decrease=0.0, min_impurity_split=None,\n",
       "           min_samples_leaf=1, min_samples_split=2,\n",
       "           min_weight_fraction_leaf=0.0, n_estimators=25, n_jobs=1,\n",
       "           oob_score=False, random_state=None, verbose=0, warm_start=False)"
      ]
     },
     "execution_count": 9,
     "metadata": {},
     "output_type": "execute_result"
    }
   ],
   "source": [
    "model.fit(X_train, y_train)"
   ]
  },
  {
   "cell_type": "code",
   "execution_count": 10,
   "metadata": {},
   "outputs": [
    {
     "data": {
      "text/plain": [
       "0.95364291964464931"
      ]
     },
     "execution_count": 10,
     "metadata": {},
     "output_type": "execute_result"
    }
   ],
   "source": [
    "model.score(X_train, y_train)"
   ]
  },
  {
   "cell_type": "code",
   "execution_count": 11,
   "metadata": {},
   "outputs": [
    {
     "data": {
      "text/plain": [
       "0.69008880062886946"
      ]
     },
     "execution_count": 11,
     "metadata": {},
     "output_type": "execute_result"
    }
   ],
   "source": [
    "model.score(X_test, y_test)"
   ]
  }
 ],
 "metadata": {
  "kernelspec": {
   "display_name": "Python 3",
   "language": "python",
   "name": "python3"
  },
  "language_info": {
   "codemirror_mode": {
    "name": "ipython",
    "version": 3
   },
   "file_extension": ".py",
   "mimetype": "text/x-python",
   "name": "python",
   "nbconvert_exporter": "python",
   "pygments_lexer": "ipython3",
   "version": "3.6.3"
  }
 },
 "nbformat": 4,
 "nbformat_minor": 2
}
