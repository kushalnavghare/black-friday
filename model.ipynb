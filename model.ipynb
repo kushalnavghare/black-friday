{
 "cells": [
  {
   "cell_type": "markdown",
   "metadata": {},
   "source": [
    "Tip: This is R notebook"
   ]
  },
  {
   "cell_type": "code",
   "execution_count": 8,
   "metadata": {
    "collapsed": true
   },
   "outputs": [],
   "source": [
    "# Set plot size\n",
    "library(\"repr\")\n",
    "options(repr.plot.width=8, repr.plot.height=3)"
   ]
  },
  {
   "cell_type": "markdown",
   "metadata": {},
   "source": [
    "# Problem Statement\n",
    "\n",
    "A retail company “ABC Private Limited” wants to understand the customer purchase behaviour (specifically, purchase amount) against various products of different categories. They have shared purchase summary of various customers for selected high volume products from last month.\n",
    "\n",
    "Now, they want to build a model to predict the purchase amount of customer against various products which will help them to create personalized offer for customers against different products.\n",
    "\n",
    "For more detail: https://datahack.analyticsvidhya.com/contest/black-friday/"
   ]
  },
  {
   "cell_type": "code",
   "execution_count": 9,
   "metadata": {
    "collapsed": true
   },
   "outputs": [],
   "source": [
    "train <- read.csv(\"train.csv\")\n",
    "test <- read.csv(\"test.csv\")"
   ]
  },
  {
   "cell_type": "code",
   "execution_count": 10,
   "metadata": {},
   "outputs": [
    {
     "data": {
      "text/plain": [
       "    User_ID            Product_ID     Gender        Age        \n",
       " Min.   :1000001   P00265242:  1880   F:135809   0-17 : 15102  \n",
       " 1st Qu.:1001516   P00025442:  1615   M:414259   18-25: 99660  \n",
       " Median :1003077   P00110742:  1612              26-35:219587  \n",
       " Mean   :1003029   P00112142:  1562              36-45:110013  \n",
       " 3rd Qu.:1004478   P00057642:  1470              46-50: 45701  \n",
       " Max.   :1006040   P00184942:  1440              51-55: 38501  \n",
       "                   (Other)  :540489              55+  : 21504  \n",
       "   Occupation     City_Category Stay_In_Current_City_Years Marital_Status  \n",
       " Min.   : 0.000   A:147720      0 : 74398                  Min.   :0.0000  \n",
       " 1st Qu.: 2.000   B:231173      1 :193821                  1st Qu.:0.0000  \n",
       " Median : 7.000   C:171175      2 :101838                  Median :0.0000  \n",
       " Mean   : 8.077                 3 : 95285                  Mean   :0.4097  \n",
       " 3rd Qu.:14.000                 4+: 84726                  3rd Qu.:1.0000  \n",
       " Max.   :20.000                                            Max.   :1.0000  \n",
       "                                                                           \n",
       " Product_Category_1 Product_Category_2 Product_Category_3    Purchase    \n",
       " Min.   : 1.000     Min.   : 2.00      Min.   : 3.0       Min.   :   12  \n",
       " 1st Qu.: 1.000     1st Qu.: 5.00      1st Qu.: 9.0       1st Qu.: 5823  \n",
       " Median : 5.000     Median : 9.00      Median :14.0       Median : 8047  \n",
       " Mean   : 5.404     Mean   : 9.84      Mean   :12.7       Mean   : 9264  \n",
       " 3rd Qu.: 8.000     3rd Qu.:15.00      3rd Qu.:16.0       3rd Qu.:12054  \n",
       " Max.   :20.000     Max.   :18.00      Max.   :18.0       Max.   :23961  \n",
       "                    NA's   :173638     NA's   :383247                    "
      ]
     },
     "metadata": {},
     "output_type": "display_data"
    }
   ],
   "source": [
    "summary(train)"
   ]
  },
  {
   "cell_type": "code",
   "execution_count": 11,
   "metadata": {},
   "outputs": [
    {
     "name": "stdout",
     "output_type": "stream",
     "text": [
      "'data.frame':\t550068 obs. of  12 variables:\n",
      " $ User_ID                   : int  1000001 1000001 1000001 1000001 1000002 1000003 1000004 1000004 1000004 1000005 ...\n",
      " $ Product_ID                : Factor w/ 3631 levels \"P00000142\",\"P00000242\",..: 673 2377 853 829 2735 1832 1746 3321 3605 2632 ...\n",
      " $ Gender                    : Factor w/ 2 levels \"F\",\"M\": 1 1 1 1 2 2 2 2 2 2 ...\n",
      " $ Age                       : Factor w/ 7 levels \"0-17\",\"18-25\",..: 1 1 1 1 7 3 5 5 5 3 ...\n",
      " $ Occupation                : int  10 10 10 10 16 15 7 7 7 20 ...\n",
      " $ City_Category             : Factor w/ 3 levels \"A\",\"B\",\"C\": 1 1 1 1 3 1 2 2 2 1 ...\n",
      " $ Stay_In_Current_City_Years: Factor w/ 5 levels \"0\",\"1\",\"2\",\"3\",..: 3 3 3 3 5 4 3 3 3 2 ...\n",
      " $ Marital_Status            : int  0 0 0 0 0 0 1 1 1 1 ...\n",
      " $ Product_Category_1        : int  3 1 12 12 8 1 1 1 1 8 ...\n",
      " $ Product_Category_2        : int  NA 6 NA 14 NA 2 8 15 16 NA ...\n",
      " $ Product_Category_3        : int  NA 14 NA NA NA NA 17 NA NA NA ...\n",
      " $ Purchase                  : int  8370 15200 1422 1057 7969 15227 19215 15854 15686 7871 ...\n"
     ]
    }
   ],
   "source": [
    "str(train)"
   ]
  },
  {
   "cell_type": "code",
   "execution_count": 12,
   "metadata": {},
   "outputs": [
    {
     "data": {
      "text/plain": [
       "    User_ID            Product_ID     Gender        Age          Occupation    \n",
       " Min.   :1000001   P00265242:   829   F: 57827   0-17 : 6232   Min.   : 0.000  \n",
       " 1st Qu.:1001527   P00112142:   717   M:175772   18-25:42293   1st Qu.: 2.000  \n",
       " Median :1003070   P00025442:   695              26-35:93428   Median : 7.000  \n",
       " Mean   :1003029   P00110742:   680              36-45:46711   Mean   : 8.085  \n",
       " 3rd Qu.:1004477   P00046742:   646              46-50:19577   3rd Qu.:14.000  \n",
       " Max.   :1006040   P00184942:   626              51-55:16283   Max.   :20.000  \n",
       "                   (Other)  :229406              55+  : 9075                   \n",
       " City_Category Stay_In_Current_City_Years Marital_Status   Product_Category_1\n",
       " A:62524       0 :31318                   Min.   :0.0000   Min.   : 1.000    \n",
       " B:98566       1 :82604                   1st Qu.:0.0000   1st Qu.: 1.000    \n",
       " C:72509       2 :43589                   Median :0.0000   Median : 5.000    \n",
       "               3 :40143                   Mean   :0.4101   Mean   : 5.277    \n",
       "               4+:35945                   3rd Qu.:1.0000   3rd Qu.: 8.000    \n",
       "                                          Max.   :1.0000   Max.   :18.000    \n",
       "                                                                             \n",
       " Product_Category_2 Product_Category_3\n",
       " Min.   : 2.00      Min.   : 3.00     \n",
       " 1st Qu.: 5.00      1st Qu.: 9.00     \n",
       " Median : 9.00      Median :14.00     \n",
       " Mean   : 9.85      Mean   :12.67     \n",
       " 3rd Qu.:15.00      3rd Qu.:16.00     \n",
       " Max.   :18.00      Max.   :18.00     \n",
       " NA's   :72344      NA's   :162562    "
      ]
     },
     "metadata": {},
     "output_type": "display_data"
    }
   ],
   "source": [
    "summary(test)"
   ]
  },
  {
   "cell_type": "code",
   "execution_count": 20,
   "metadata": {},
   "outputs": [
    {
     "data": {
      "text/html": [
       "<table>\n",
       "<thead><tr><th scope=col>User_ID</th><th scope=col>Product_ID</th><th scope=col>Gender</th><th scope=col>Age</th><th scope=col>Occupation</th><th scope=col>City_Category</th><th scope=col>Stay_In_Current_City_Years</th><th scope=col>Marital_Status</th><th scope=col>Product_Category_1</th><th scope=col>Product_Category_2</th><th scope=col>Product_Category_3</th><th scope=col>Purchase</th></tr></thead>\n",
       "<tbody>\n",
       "\t<tr><td>1000001  </td><td>P00069042</td><td>F        </td><td>0-17     </td><td>10       </td><td>A        </td><td>2        </td><td>0        </td><td> 3       </td><td>NA       </td><td>NA       </td><td> 8370    </td></tr>\n",
       "\t<tr><td>1000001  </td><td>P00248942</td><td>F        </td><td>0-17     </td><td>10       </td><td>A        </td><td>2        </td><td>0        </td><td> 1       </td><td> 6       </td><td>14       </td><td>15200    </td></tr>\n",
       "\t<tr><td>1000001  </td><td>P00087842</td><td>F        </td><td>0-17     </td><td>10       </td><td>A        </td><td>2        </td><td>0        </td><td>12       </td><td>NA       </td><td>NA       </td><td> 1422    </td></tr>\n",
       "\t<tr><td>1000001  </td><td>P00085442</td><td>F        </td><td>0-17     </td><td>10       </td><td>A        </td><td>2        </td><td>0        </td><td>12       </td><td>14       </td><td>NA       </td><td> 1057    </td></tr>\n",
       "\t<tr><td>1000002  </td><td>P00285442</td><td>M        </td><td>55+      </td><td>16       </td><td>C        </td><td>4+       </td><td>0        </td><td> 8       </td><td>NA       </td><td>NA       </td><td> 7969    </td></tr>\n",
       "\t<tr><td>1000003  </td><td>P00193542</td><td>M        </td><td>26-35    </td><td>15       </td><td>A        </td><td>3        </td><td>0        </td><td> 1       </td><td> 2       </td><td>NA       </td><td>15227    </td></tr>\n",
       "</tbody>\n",
       "</table>\n"
      ],
      "text/latex": [
       "\\begin{tabular}{r|llllllllllll}\n",
       " User\\_ID & Product\\_ID & Gender & Age & Occupation & City\\_Category & Stay\\_In\\_Current\\_City\\_Years & Marital\\_Status & Product\\_Category\\_1 & Product\\_Category\\_2 & Product\\_Category\\_3 & Purchase\\\\\n",
       "\\hline\n",
       "\t 1000001   & P00069042 & F         & 0-17      & 10        & A         & 2         & 0         &  3        & NA        & NA        &  8370    \\\\\n",
       "\t 1000001   & P00248942 & F         & 0-17      & 10        & A         & 2         & 0         &  1        &  6        & 14        & 15200    \\\\\n",
       "\t 1000001   & P00087842 & F         & 0-17      & 10        & A         & 2         & 0         & 12        & NA        & NA        &  1422    \\\\\n",
       "\t 1000001   & P00085442 & F         & 0-17      & 10        & A         & 2         & 0         & 12        & 14        & NA        &  1057    \\\\\n",
       "\t 1000002   & P00285442 & M         & 55+       & 16        & C         & 4+        & 0         &  8        & NA        & NA        &  7969    \\\\\n",
       "\t 1000003   & P00193542 & M         & 26-35     & 15        & A         & 3         & 0         &  1        &  2        & NA        & 15227    \\\\\n",
       "\\end{tabular}\n"
      ],
      "text/markdown": [
       "\n",
       "User_ID | Product_ID | Gender | Age | Occupation | City_Category | Stay_In_Current_City_Years | Marital_Status | Product_Category_1 | Product_Category_2 | Product_Category_3 | Purchase | \n",
       "|---|---|---|---|---|---|\n",
       "| 1000001   | P00069042 | F         | 0-17      | 10        | A         | 2         | 0         |  3        | NA        | NA        |  8370     | \n",
       "| 1000001   | P00248942 | F         | 0-17      | 10        | A         | 2         | 0         |  1        |  6        | 14        | 15200     | \n",
       "| 1000001   | P00087842 | F         | 0-17      | 10        | A         | 2         | 0         | 12        | NA        | NA        |  1422     | \n",
       "| 1000001   | P00085442 | F         | 0-17      | 10        | A         | 2         | 0         | 12        | 14        | NA        |  1057     | \n",
       "| 1000002   | P00285442 | M         | 55+       | 16        | C         | 4+        | 0         |  8        | NA        | NA        |  7969     | \n",
       "| 1000003   | P00193542 | M         | 26-35     | 15        | A         | 3         | 0         |  1        |  2        | NA        | 15227     | \n",
       "\n",
       "\n"
      ],
      "text/plain": [
       "  User_ID Product_ID Gender Age   Occupation City_Category\n",
       "1 1000001 P00069042  F      0-17  10         A            \n",
       "2 1000001 P00248942  F      0-17  10         A            \n",
       "3 1000001 P00087842  F      0-17  10         A            \n",
       "4 1000001 P00085442  F      0-17  10         A            \n",
       "5 1000002 P00285442  M      55+   16         C            \n",
       "6 1000003 P00193542  M      26-35 15         A            \n",
       "  Stay_In_Current_City_Years Marital_Status Product_Category_1\n",
       "1 2                          0               3                \n",
       "2 2                          0               1                \n",
       "3 2                          0              12                \n",
       "4 2                          0              12                \n",
       "5 4+                         0               8                \n",
       "6 3                          0               1                \n",
       "  Product_Category_2 Product_Category_3 Purchase\n",
       "1 NA                 NA                  8370   \n",
       "2  6                 14                 15200   \n",
       "3 NA                 NA                  1422   \n",
       "4 14                 NA                  1057   \n",
       "5 NA                 NA                  7969   \n",
       "6  2                 NA                 15227   "
      ]
     },
     "metadata": {},
     "output_type": "display_data"
    }
   ],
   "source": [
    "head(train)"
   ]
  },
  {
   "cell_type": "code",
   "execution_count": 23,
   "metadata": {},
   "outputs": [
    {
     "data": {
      "text/html": [
       "<ol class=list-inline>\n",
       "\t<li>'User_ID'</li>\n",
       "\t<li>'Product_ID'</li>\n",
       "\t<li>'Gender'</li>\n",
       "\t<li>'Age'</li>\n",
       "\t<li>'Occupation'</li>\n",
       "\t<li>'City_Category'</li>\n",
       "\t<li>'Stay_In_Current_City_Years'</li>\n",
       "\t<li>'Marital_Status'</li>\n",
       "\t<li>'Product_Category_1'</li>\n",
       "\t<li>'Product_Category_2'</li>\n",
       "\t<li>'Product_Category_3'</li>\n",
       "\t<li>'Purchase'</li>\n",
       "</ol>\n"
      ],
      "text/latex": [
       "\\begin{enumerate*}\n",
       "\\item 'User\\_ID'\n",
       "\\item 'Product\\_ID'\n",
       "\\item 'Gender'\n",
       "\\item 'Age'\n",
       "\\item 'Occupation'\n",
       "\\item 'City\\_Category'\n",
       "\\item 'Stay\\_In\\_Current\\_City\\_Years'\n",
       "\\item 'Marital\\_Status'\n",
       "\\item 'Product\\_Category\\_1'\n",
       "\\item 'Product\\_Category\\_2'\n",
       "\\item 'Product\\_Category\\_3'\n",
       "\\item 'Purchase'\n",
       "\\end{enumerate*}\n"
      ],
      "text/markdown": [
       "1. 'User_ID'\n",
       "2. 'Product_ID'\n",
       "3. 'Gender'\n",
       "4. 'Age'\n",
       "5. 'Occupation'\n",
       "6. 'City_Category'\n",
       "7. 'Stay_In_Current_City_Years'\n",
       "8. 'Marital_Status'\n",
       "9. 'Product_Category_1'\n",
       "10. 'Product_Category_2'\n",
       "11. 'Product_Category_3'\n",
       "12. 'Purchase'\n",
       "\n",
       "\n"
      ],
      "text/plain": [
       " [1] \"User_ID\"                    \"Product_ID\"                \n",
       " [3] \"Gender\"                     \"Age\"                       \n",
       " [5] \"Occupation\"                 \"City_Category\"             \n",
       " [7] \"Stay_In_Current_City_Years\" \"Marital_Status\"            \n",
       " [9] \"Product_Category_1\"         \"Product_Category_2\"        \n",
       "[11] \"Product_Category_3\"         \"Purchase\"                  "
      ]
     },
     "metadata": {},
     "output_type": "display_data"
    }
   ],
   "source": [
    "colnames(train)"
   ]
  },
  {
   "cell_type": "code",
   "execution_count": 37,
   "metadata": {},
   "outputs": [
    {
     "name": "stdout",
     "output_type": "stream",
     "text": [
      "\n",
      " Age \n",
      " 15102 99660 219587 110013 45701 38501 21504 \n",
      "\n",
      " Occupation \n",
      " 69638 47426 26588 17650 72308 12177 20355 59133 1546 6291 12930 11586 31179 7728 27309 12165 25371 40043 6622 8461 33562 \n",
      "\n",
      " City_Category \n",
      " 147720 231173 171175 \n"
     ]
    }
   ],
   "source": [
    "cat(\"\\n\", \"Age\", \"\\n\", table(train$Age), \"\\n\")\n",
    "cat(\"\\n\",\"Occupation\",\"\\n\", table(train$Occupation), \"\\n\")\n",
    "cat(\"\\n\",\"City_Category\",\"\\n\", table(train$City_Category), \"\\n\")"
   ]
  },
  {
   "cell_type": "code",
   "execution_count": null,
   "metadata": {
    "collapsed": true
   },
   "outputs": [],
   "source": []
  }
 ],
 "metadata": {
  "kernelspec": {
   "display_name": "R",
   "language": "R",
   "name": "ir"
  },
  "language_info": {
   "codemirror_mode": "r",
   "file_extension": ".r",
   "mimetype": "text/x-r-source",
   "name": "R",
   "pygments_lexer": "r",
   "version": "3.3.3"
  },
  "widgets": {
   "application/vnd.jupyter.widget-state+json": {
    "state": {},
    "version_major": 2,
    "version_minor": 0
   }
  }
 },
 "nbformat": 4,
 "nbformat_minor": 2
}
